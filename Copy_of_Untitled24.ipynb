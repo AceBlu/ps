{
  "nbformat": 4,
  "nbformat_minor": 0,
  "metadata": {
    "colab": {
      "name": "Copy of Untitled24.ipynb",
      "provenance": [],
      "collapsed_sections": [],
      "include_colab_link": true
    },
    "kernelspec": {
      "name": "python3",
      "display_name": "Python 3"
    },
    "language_info": {
      "name": "python"
    }
  },
  "cells": [
    {
      "cell_type": "markdown",
      "metadata": {
        "id": "view-in-github",
        "colab_type": "text"
      },
      "source": [
        "<a href=\"https://colab.research.google.com/github/AceBlu/ps/blob/main/Copy_of_Untitled24.ipynb\" target=\"_parent\"><img src=\"https://colab.research.google.com/assets/colab-badge.svg\" alt=\"Open In Colab\"/></a>"
      ]
    },
    {
      "cell_type": "markdown",
      "source": [
        "Apptitude Question on Probabity \n",
        "\n",
        "1.What is the probability of getting an even number when the dice is rolled?\n",
        "\n",
        "a.1/2\n",
        "\n",
        "b.1/3\n",
        "\n",
        "c.1/4\n",
        "\n",
        "d.1/6"
      ],
      "metadata": {
        "id": "5MtByvsumNma"
      }
    },
    {
      "cell_type": "markdown",
      "source": [
        "2.The tickets numbered from 1 to 20 are mixed up and then a ticket is drawn at random. What is the probability that the ticket has a number which is a multiple of 3 or 5?\n",
        "\n",
        "a.9/20\n",
        "\n",
        "b.9/24\n",
        "\n",
        "c.9/27\n",
        "\n",
        "d.9/30"
      ],
      "metadata": {
        "id": "Gnd9SP5boKAd"
      }
    },
    {
      "cell_type": "code",
      "source": [
        "#@title Explanation:\n",
        "The sample space, S= (1, 2, 3, 4, 5 ...18, 19, 20) or n(S) = 20\n",
        "\n",
        "The event \"E\" of getting a multiple of 3 or 5 = (3, 6, 9, 12, 15, 18, 5, 10, 20) or n (E) = 9\n",
        "So, the probability of getting multiple of 3 or 5, P (E) =Apti Probability = 9/20"
      ],
      "metadata": {
        "cellView": "form",
        "id": "4BN7eKHyofIB"
      },
      "execution_count": null,
      "outputs": []
    },
    {
      "cell_type": "code",
      "execution_count": null,
      "metadata": {
        "id": "3_Z99garmHwD",
        "cellView": "form"
      },
      "outputs": [],
      "source": [
        "#@title Explanation:\n",
        "\n",
        "The sample space when a dice is rolled, S = (1, 2, 3, 4, 5 and 6)\n",
        "So, n (S) = 6\n",
        "E is the event of getting an even number.\n",
        "So, n (E) = 3\n",
        "So, the probability of getting an even number P (E) =Total number of favorable outcomes/Total number of outcomes\n",
        "                                    n(E)/n(S) = 3/6 = 1/2"
      ]
    }
  ]
}